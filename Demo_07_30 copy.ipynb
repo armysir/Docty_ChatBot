{
 "cells": [
  {
   "cell_type": "code",
   "execution_count": 1,
   "metadata": {},
   "outputs": [
    {
     "name": "stderr",
     "output_type": "stream",
     "text": [
      "\n",
      "[notice] A new release of pip is available: 24.0 -> 24.2\n",
      "[notice] To update, run: python.exe -m pip install --upgrade pip\n"
     ]
    }
   ],
   "source": [
    "!pip install -q langchain pypdf sentence-transformers chromadb langchain-openai python-dotenv\n"
   ]
  },
  {
   "cell_type": "code",
   "execution_count": 9,
   "metadata": {},
   "outputs": [],
   "source": [
    "from langchain.retrievers import BM25Retriever, EnsembleRetriever\n",
    "from langchain_community.vectorstores import Chroma\n",
    "from langchain.embeddings import HuggingFaceEmbeddings\n",
    "from langchain.text_splitter import RecursiveCharacterTextSplitter\n",
    "from langchain_community.document_loaders import WebBaseLoader\n",
    "from langchain.chains import ConversationalRetrievalChain\n",
    "from langchain_openai import ChatOpenAI\n",
    "from dotenv import load_dotenv\n",
    "\n",
    "import os\n",
    "load_dotenv()\n",
    "\n",
    "\n"
   ]
  },
  {
   "cell_type": "code",
   "execution_count": 7,
   "metadata": {},
   "outputs": [],
   "source": [
    "# 문서 로드 및 처리\n",
    "loaders = [\n",
    "    WebBaseLoader(\"https://terms.naver.com/entry.naver?docId=926577&cid=51007&categoryId=51007\"),\n",
    "    WebBaseLoader(\"https://terms.naver.com/entry.naver?docId=926584&cid=51007&categoryId=51007\"),\n",
    "]\n",
    "docs = []\n",
    "for loader in loaders:\n",
    "    docs.extend(loader.load_and_split())\n",
    "\n",
    "text_splitter = RecursiveCharacterTextSplitter(chunk_size=500, chunk_overlap=50)\n",
    "texts = text_splitter.split_documents(docs)"
   ]
  },
  {
   "cell_type": "code",
   "execution_count": 11,
   "metadata": {},
   "outputs": [
    {
     "ename": "ValidationError",
     "evalue": "1 validation error for ChatOpenAI\n__root__\n  Did not find openai_api_key, please add an environment variable `OPENAI_API_KEY` which contains it, or pass `openai_api_key` as a named parameter. (type=value_error)",
     "output_type": "error",
     "traceback": [
      "\u001b[1;31m---------------------------------------------------------------------------\u001b[0m",
      "\u001b[1;31mValidationError\u001b[0m                           Traceback (most recent call last)",
      "Cell \u001b[1;32mIn[11], line 17\u001b[0m\n\u001b[0;32m     11\u001b[0m ensemble_retriever \u001b[38;5;241m=\u001b[39m EnsembleRetriever(\n\u001b[0;32m     12\u001b[0m     retrievers\u001b[38;5;241m=\u001b[39m[bm25_retriever, chroma_retriever], \n\u001b[0;32m     13\u001b[0m     weights\u001b[38;5;241m=\u001b[39m[\u001b[38;5;241m0.5\u001b[39m, \u001b[38;5;241m0.5\u001b[39m]\n\u001b[0;32m     14\u001b[0m )\n\u001b[0;32m     15\u001b[0m \u001b[38;5;66;03m# OpenAI LLM 설정\u001b[39;00m\n\u001b[1;32m---> 17\u001b[0m openai_llm \u001b[38;5;241m=\u001b[39m \u001b[43mChatOpenAI\u001b[49m\u001b[43m(\u001b[49m\u001b[43mmodel_name\u001b[49m\u001b[38;5;241;43m=\u001b[39;49m\u001b[38;5;124;43m\"\u001b[39;49m\u001b[38;5;124;43mgpt-4o-mini\u001b[39;49m\u001b[38;5;124;43m\"\u001b[39;49m\u001b[43m,\u001b[49m\u001b[43m \u001b[49m\u001b[43mtemperature\u001b[49m\u001b[43m \u001b[49m\u001b[38;5;241;43m=\u001b[39;49m\u001b[43m \u001b[49m\u001b[38;5;241;43m0\u001b[39;49m\u001b[43m,\u001b[49m\u001b[43m    \u001b[49m\u001b[43mopenai_api_key\u001b[49m\u001b[38;5;241;43m=\u001b[39;49m\u001b[43mos\u001b[49m\u001b[38;5;241;43m.\u001b[39;49m\u001b[43mgetenv\u001b[49m\u001b[43m(\u001b[49m\u001b[38;5;124;43m\"\u001b[39;49m\u001b[38;5;124;43mOPENAI_API_KEY\u001b[39;49m\u001b[38;5;124;43m\"\u001b[39;49m\u001b[43m)\u001b[49m\n\u001b[0;32m     18\u001b[0m \u001b[43m)\u001b[49m\n",
      "File \u001b[1;32mc:\\Users\\whdkf\\AppData\\Local\\Programs\\Python\\Python312\\Lib\\site-packages\\pydantic\\v1\\main.py:341\u001b[0m, in \u001b[0;36mBaseModel.__init__\u001b[1;34m(__pydantic_self__, **data)\u001b[0m\n\u001b[0;32m    339\u001b[0m values, fields_set, validation_error \u001b[38;5;241m=\u001b[39m validate_model(__pydantic_self__\u001b[38;5;241m.\u001b[39m\u001b[38;5;18m__class__\u001b[39m, data)\n\u001b[0;32m    340\u001b[0m \u001b[38;5;28;01mif\u001b[39;00m validation_error:\n\u001b[1;32m--> 341\u001b[0m     \u001b[38;5;28;01mraise\u001b[39;00m validation_error\n\u001b[0;32m    342\u001b[0m \u001b[38;5;28;01mtry\u001b[39;00m:\n\u001b[0;32m    343\u001b[0m     object_setattr(__pydantic_self__, \u001b[38;5;124m'\u001b[39m\u001b[38;5;124m__dict__\u001b[39m\u001b[38;5;124m'\u001b[39m, values)\n",
      "\u001b[1;31mValidationError\u001b[0m: 1 validation error for ChatOpenAI\n__root__\n  Did not find openai_api_key, please add an environment variable `OPENAI_API_KEY` which contains it, or pass `openai_api_key` as a named parameter. (type=value_error)"
     ]
    }
   ],
   "source": [
    "# 임베딩 설정\n",
    "model_name = \"bespin-global/klue-sroberta-base-continue-learning-by-mnr\"\n",
    "ko_embedding = HuggingFaceEmbeddings(model_name=model_name)\n",
    "\n",
    "# BM25 및 Chroma 리트리버 설정\n",
    "bm25_retriever = BM25Retriever.from_documents(texts)\n",
    "chroma_db = Chroma.from_documents(documents=texts, embedding=ko_embedding)\n",
    "chroma_retriever = chroma_db.as_retriever(search_kwargs={\"k\": 2})\n",
    "\n",
    "# 앙상블 리트리버 설정\n",
    "ensemble_retriever = EnsembleRetriever(\n",
    "    retrievers=[bm25_retriever, chroma_retriever], \n",
    "    weights=[0.5, 0.5]\n",
    ")\n",
    "# OpenAI LLM 설정\n",
    "\n",
    "openai_llm = ChatOpenAI(model_name=\"gpt-4o-mini\", temperature = 0,    openai_api_key=os.getenv(\"OPENAI_API_KEY\")\n",
    ")"
   ]
  },
  {
   "cell_type": "code",
   "execution_count": null,
   "metadata": {},
   "outputs": [
    {
     "name": "stdout",
     "output_type": "stream",
     "text": [
      "Bot: 감기의 증상으로는 재채기, 코막힘, 콧물, 인후통, 기침, 미열, 두통 및 근육통 등이 있습니다. 증상은 감기 바이러스에 노출된 후 1~3일 후에 나타나며, 성인에게는 열이 드물거나 미열에 그치는 경우가 많고, 소아에게서는 발열 증상이 흔하게 나타납니다.\n",
      "Bot: 인플루엔자는 인플루엔자 바이러스에 의한 급성 호흡기 질환입니다. 이 질환은 상부 호흡기계(코, 목)나 하부 호흡기계(폐)를 침범하며, 갑작스러운 고열, 두통, 근육통, 전신 쇠약감과 같은 전반적인 신체 증상을 동반합니다. 인플루엔자는 전염성이 강하고, 노인, 소아, 및 기저질환이 있는 사람이 감염될 경우 사망률이 증가하고 합병증이 발생할 수 있습니다. 매년 겨울에 소규모로 유행하며, 새로운 종류의 인플루엔자 바이러스가 나타나면 대유행을 일으킬 수 있습니다.\n",
      "Bot: 감기의 진료과는 일반적으로 내과나 가정의학과에서 진료를 받습니다. 감기는 주로 상부 호흡기계에 영향을 미치는 질환이기 때문에 이러한 과에서 진료를 받는 것이 적합합니다.\n",
      "Bot: 감기와 관련된 질병은 다음과 같습니다:\n",
      "\n",
      "- 상기도감염\n",
      "- 비염\n",
      "- 부비동염\n",
      "- 인후두염\n",
      "- 기관지염\n",
      "- 폐렴\n",
      "- 천식\n",
      "- 독감\n",
      "Bot: 감기와 관련된 질병으로는 독감이 있습니다. 독감은 감기와 일부 증상이 비슷할 수 있지만, 원인 바이러스가 다르며 증상이나 합병증, 치료법도 다릅니다. 또한, 감기는 상부 호흡기계의 감염으로, 재채기, 코막힘, 콧물, 인후통, 기침 등의 증상이 나타납니다.\n",
      "Bot: 제가 이전에 질문한 내용을 요약할 수는 없습니다. 하지만 독감과 감기에 대한 진단, 치료, 경과 및 합병증, 예방 방법에 대한 정보를 제공할 수 있습니다. 필요하신 정보가 있다면 말씀해 주세요.\n",
      "Bot: 저는 요약할 수 있습니다. 어떤 내용을 요약해 드릴까요?\n"
     ]
    }
   ],
   "source": [
    "# Conversational Retrieval Chain 생성\n",
    "qa_chain = ConversationalRetrievalChain.from_llm(\n",
    "    llm=openai_llm,\n",
    "    retriever=ensemble_retriever,\n",
    "    return_source_documents=True\n",
    ")\n",
    "\n",
    "# 대화 상태 초기화\n",
    "conversation_history = []\n",
    "\n",
    "# 챗봇 루프\n",
    "while True:\n",
    "    query = input(\"You: \")\n",
    "    if query.lower() in [\"exit\", \"quit\"]:\n",
    "        break\n",
    "    \n",
    "    # 대화 히스토리에 새로운 질문 추가\n",
    "    conversation_history.append((\"user\", query))\n",
    "    \n",
    "    # qa_chain에 chat_history를 전달할 때 올바른 형식으로 전달\n",
    "    result = qa_chain({\"question\": query, \"chat_history\": conversation_history})\n",
    "    response = result['answer']\n",
    "    \n",
    "    print(f\"Bot: {response}\")\n",
    "    \n",
    "    # 대화 히스토리 업데이트\n",
    "    conversation_history.append((\"assistant\", response))"
   ]
  }
 ],
 "metadata": {
  "kernelspec": {
   "display_name": "Python 3",
   "language": "python",
   "name": "python3"
  },
  "language_info": {
   "codemirror_mode": {
    "name": "ipython",
    "version": 3
   },
   "file_extension": ".py",
   "mimetype": "text/x-python",
   "name": "python",
   "nbconvert_exporter": "python",
   "pygments_lexer": "ipython3",
   "version": "3.12.3"
  }
 },
 "nbformat": 4,
 "nbformat_minor": 2
}
